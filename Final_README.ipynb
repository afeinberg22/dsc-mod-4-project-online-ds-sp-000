{
 "cells": [
  {
   "cell_type": "markdown",
   "metadata": {},
   "source": [
    "# Read Me"
   ]
  },
  {
   "cell_type": "markdown",
   "metadata": {},
   "source": [
    "In this project we use data from Zillow that covers over 14,000 zipcoes in over 7,000 cities across the country. From there, we narrow down our data to the 5 \"best\" zipcodes for investors. \n",
    "\n",
    "For the purpose of my project, I did a deep dive specifically into Austin, TX - the fastest growing city in America. I ultimately determined that the most important metrics to consider were ROI and Risk. I narrowed my data to choose the 5 zipcodes with the best ROI to Risk ratio. \n",
    "\n",
    "After choosing the zipcodes and narrowing down the dataset to columns we will need, we then visualize their trajectory from 1996 to 2018. Following this, we tweak the model as necessary so that it will fit into a ARIMA model. \n",
    "\n",
    "We were ultimately able to visualize and forecast the average real estate price in 5 zipcodes to 2024. \n",
    "\n",
    "The results show that there are 2 zipcodes out of the 5 zipcodes would be highly reccomended for investment. 78724 and 78728. These zipcodes both do not have large confidence minumums and show forecasted returns over 18% come 2024. \n",
    "\n",
    "If I had more time...\n",
    "There are a couple zipcodes that are worth tweaking to fit better into the model. \n",
    "I would have done stationarity tests for all of the models and detrended where necessary\n",
    "I would have made additional adjustments based on the 2008 housing crisis "
   ]
  },
  {
   "cell_type": "code",
   "execution_count": null,
   "metadata": {},
   "outputs": [],
   "source": []
  }
 ],
 "metadata": {
  "kernelspec": {
   "display_name": "Python [conda env:root]",
   "language": "python",
   "name": "conda-root-py"
  },
  "language_info": {
   "codemirror_mode": {
    "name": "ipython",
    "version": 3
   },
   "file_extension": ".py",
   "mimetype": "text/x-python",
   "name": "python",
   "nbconvert_exporter": "python",
   "pygments_lexer": "ipython3",
   "version": "3.7.3"
  }
 },
 "nbformat": 4,
 "nbformat_minor": 2
}
